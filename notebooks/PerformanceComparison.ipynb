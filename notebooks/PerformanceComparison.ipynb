{
 "cells": [
  {
   "cell_type": "code",
   "execution_count": null,
   "metadata": {},
   "outputs": [],
   "source": [
    "import histogram as bh\n",
    "import numpy as np"
   ]
  },
  {
   "cell_type": "markdown",
   "metadata": {},
   "source": [
    "### Testing setup\n",
    "\n",
    "This is just a simple 1D and 2D dataset to use for performance runs. The testing setup is the same as \"MBP\" in [this post](https://iscinumpy.gitlab.io/post/histogram-speeds-in-python/)."
   ]
  },
  {
   "cell_type": "code",
   "execution_count": null,
   "metadata": {},
   "outputs": [],
   "source": [
    "bins=(100, 100)\n",
    "ranges=((-1,1),(-1,1))\n",
    "bins = np.asarray(bins).astype(np.int64)\n",
    "ranges = np.asarray(ranges).astype(np.float64)\n",
    "    \n",
    "edges = (np.linspace(*ranges[0,:], bins[0]+1),\n",
    "         np.linspace(*ranges[1,:], bins[1]+1))"
   ]
  },
  {
   "cell_type": "code",
   "execution_count": null,
   "metadata": {},
   "outputs": [],
   "source": [
    "np.random.seed(42)\n",
    "vals = np.random.normal(size=[2, 1_000_000]).astype(np.float32)\n",
    "vals1d = np.random.normal(size=[10_000_000]).astype(np.float32)"
   ]
  },
  {
   "cell_type": "markdown",
   "metadata": {},
   "source": [
    "#### Traditional 1D Numpy Histogram\n",
    "\n",
    "This is reasonably optimized; it should provide good perforance."
   ]
  },
  {
   "cell_type": "code",
   "execution_count": null,
   "metadata": {},
   "outputs": [],
   "source": [
    "%%timeit\n",
    "h, _ = np.histogram(vals1d, bins=bins[0], range=ranges[0])"
   ]
  },
  {
   "cell_type": "code",
   "execution_count": null,
   "metadata": {},
   "outputs": [],
   "source": [
    "h, e = np.histogram(vals1d, bins=bins[0], range=ranges[0])\n",
    "h"
   ]
  },
  {
   "cell_type": "markdown",
   "metadata": {},
   "source": [
    "#### Boost histogram: General vector\n",
    "\n",
    "This can take any axis type"
   ]
  },
  {
   "cell_type": "code",
   "execution_count": null,
   "metadata": {},
   "outputs": [],
   "source": [
    "%%timeit\n",
    "hist = bh.hist.any_int([bh.axis.regular(bins[0], *ranges[0])])\n",
    "hist.fill(vals1d)"
   ]
  },
  {
   "cell_type": "code",
   "execution_count": null,
   "metadata": {},
   "outputs": [],
   "source": [
    "hist = bh.hist.regular_int([bh.axis.regular(bins[0], *ranges[0])])\n",
    "hist.fill(vals1d)\n",
    "np.array([hist.at(i) for i in range(100)])"
   ]
  },
  {
   "cell_type": "markdown",
   "metadata": {},
   "source": [
    "#### Boost histogram in 1D: Axis vector"
   ]
  },
  {
   "cell_type": "code",
   "execution_count": null,
   "metadata": {},
   "outputs": [],
   "source": [
    "%%timeit\n",
    "hist = bh.hist.regular_int([bh.axis.regular(bins[0], *ranges[0])])\n",
    "hist.fill(vals1d)"
   ]
  },
  {
   "cell_type": "code",
   "execution_count": null,
   "metadata": {},
   "outputs": [],
   "source": [
    "hist = bh.hist.regular_int([bh.axis.regular(bins[0], *ranges[0])])\n",
    "hist.fill(vals1d)\n",
    "np.array([hist.at(i) for i in range(100)])"
   ]
  },
  {
   "cell_type": "markdown",
   "metadata": {},
   "source": [
    "#### Boost histogram in 1D: Dense Tuple"
   ]
  },
  {
   "cell_type": "code",
   "execution_count": null,
   "metadata": {},
   "outputs": [],
   "source": [
    "%%timeit\n",
    "hist = bh.hist.regular_int_1d((bh.axis.regular(bins[0], *ranges[0]),))\n",
    "hist.fill(vals1d)"
   ]
  },
  {
   "cell_type": "code",
   "execution_count": null,
   "metadata": {},
   "outputs": [],
   "source": [
    "hist = bh.hist.regular_int_1d((bh.axis.regular(bins[0], *ranges[0]),))\n",
    "hist.fill(vals1d)\n",
    "np.array([hist.at(i) for i in range(100)])"
   ]
  },
  {
   "cell_type": "markdown",
   "metadata": {},
   "source": [
    "---"
   ]
  },
  {
   "cell_type": "markdown",
   "metadata": {},
   "source": [
    "#### Traditional 2D Numpy histogram\n",
    "\n",
    "Not as well optimized for regular filling."
   ]
  },
  {
   "cell_type": "code",
   "execution_count": null,
   "metadata": {},
   "outputs": [],
   "source": [
    "%%timeit\n",
    "H, *ledges = np.histogram2d(*vals, bins=bins, range=ranges)"
   ]
  },
  {
   "cell_type": "code",
   "execution_count": null,
   "metadata": {},
   "outputs": [],
   "source": [
    "np.histogram2d(*vals, bins=bins, range=ranges)[0][0,0]"
   ]
  },
  {
   "cell_type": "markdown",
   "metadata": {},
   "source": [
    "#### Boost histogram in 2D: Axis vector"
   ]
  },
  {
   "cell_type": "code",
   "execution_count": null,
   "metadata": {},
   "outputs": [],
   "source": [
    "%%timeit\n",
    "hist = bh.hist.regular_int([bh.axis.regular(bins[0], *ranges[0]),\n",
    "                            bh.axis.regular(bins[1], *ranges[1])])\n",
    "hist.fill(vals)"
   ]
  },
  {
   "cell_type": "code",
   "execution_count": null,
   "metadata": {},
   "outputs": [],
   "source": [
    "hist = bh.hist.regular_int([bh.axis.regular(bins[0], *ranges[0]),\n",
    "                            bh.axis.regular(bins[1], *ranges[1])])\n",
    "hist.fill(vals)\n",
    "hist.at(0,0)"
   ]
  },
  {
   "cell_type": "markdown",
   "metadata": {},
   "source": [
    "#### Boost histogram in 2D: Axis Tuple"
   ]
  },
  {
   "cell_type": "code",
   "execution_count": null,
   "metadata": {},
   "outputs": [],
   "source": [
    "%%timeit\n",
    "hist = bh.hist.regular_int_2d((bh.axis.regular(bins[0], *ranges[0]),\n",
    "                               bh.axis.regular(bins[1], *ranges[1])))\n",
    "hist.fill(vals)"
   ]
  },
  {
   "cell_type": "code",
   "execution_count": null,
   "metadata": {},
   "outputs": [],
   "source": [
    "hist = bh.hist.regular_int_2d((bh.axis.regular(bins[0], *ranges[0]),\n",
    "                               bh.axis.regular(bins[1], *ranges[1])))\n",
    "hist.fill(vals)\n",
    "hist.at(0,0)"
   ]
  },
  {
   "cell_type": "code",
   "execution_count": null,
   "metadata": {},
   "outputs": [],
   "source": []
  }
 ],
 "metadata": {
  "kernelspec": {
   "display_name": "Python 3",
   "language": "python",
   "name": "python3"
  },
  "language_info": {
   "codemirror_mode": {
    "name": "ipython",
    "version": 3
   },
   "file_extension": ".py",
   "mimetype": "text/x-python",
   "name": "python",
   "nbconvert_exporter": "python",
   "pygments_lexer": "ipython3",
   "version": "3.7.2"
  }
 },
 "nbformat": 4,
 "nbformat_minor": 2
}
